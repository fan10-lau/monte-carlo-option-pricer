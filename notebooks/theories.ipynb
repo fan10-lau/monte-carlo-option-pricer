{
 "cells": [
  {
   "cell_type": "markdown",
   "metadata": {},
   "source": [
    "## Geometric Brownian Motion (GBM)\n",
    "\n",
    "Stock price dynamics are modeled using the GBM process:\n",
    "\n",
    "$$\n",
    "dS_t = r S_t dt + \\sigma S_t dW_t\n",
    "$$\n",
    "\n",
    "Where:\n",
    "- \\( S_t \\): stock price at time \\( t \\)\n",
    "- \\( r \\): risk-free interest rate\n",
    "- \\( \\sigma \\): volatility of the stock\n",
    "- \\( dW_t \\): increment of a Wiener process (Brownian motion)\n",
    "\n",
    "This process is discretized and simulated to generate thousands of possible future stock price paths.\n"
   ]
  },
  {
   "cell_type": "markdown",
   "metadata": {},
   "source": [
    "## Monte Carlo Option Pricing\n",
    "\n",
    "Monte Carlo pricing uses simulated stock paths to compute the expected payoff under the risk-neutral measure:\n",
    "\n",
    "$$\n",
    "V = e^{-rT} \\cdot \\mathbb{E}^{\\mathbb{Q}}[\\text{Payoff}(S_T)]\n",
    "$$\n",
    "\n",
    "Steps:\n",
    "1. Simulate \\( I \\) GBM paths with \\( M \\) time steps each\n",
    "2. Calculate the option payoff at maturity for each path\n",
    "3. Average the payoffs\n",
    "4. Discount the result back to present value\n"
   ]
  },
  {
   "cell_type": "markdown",
   "metadata": {},
   "source": [
    "## Black-Scholes Model\n",
    "\n",
    "The Black-Scholes formula provides closed-form solutions for European options:\n",
    "\n",
    "Call Option:\n",
    "$$\n",
    "C = S_0 \\cdot N(d_1) - K \\cdot e^{-rT} \\cdot N(d_2)\n",
    "$$\n",
    "\n",
    "Put Option:\n",
    "$$\n",
    "P = K \\cdot e^{-rT} \\cdot N(-d_2) - S_0 \\cdot N(-d_1)\n",
    "$$\n",
    "\n",
    "Where:\n",
    "$$\n",
    "d_1 = \\frac{\\ln(S_0 / K) + (r + \\frac{1}{2} \\sigma^2) T}{\\sigma \\sqrt{T}}, \\quad d_2 = d_1 - \\sigma \\sqrt{T}\n",
    "$$\n",
    "\n",
    "These formulas are used as ground truth for validating Monte Carlo results.\n",
    "\n"
   ]
  },
  {
   "cell_type": "markdown",
   "metadata": {},
   "source": [
    "## Greeks via Finite Difference\n",
    "\n",
    "Greeks represent the sensitivity of the option price to various parameters.\n",
    "\n",
    "Monte Carlo estimates them numerically using finite differences:\n",
    "\n",
    "- **Delta**: sensitivity to stock price\n",
    "  $$\n",
    "  \\Delta \\approx \\frac{V(S_0 + h) - V(S_0 - h)}{2h}\n",
    "  $$\n",
    "\n",
    "- **Vega**: sensitivity to volatility\n",
    "  $$\n",
    "  \\text{Vega} \\approx \\frac{V(\\sigma + h) - V(\\sigma - h)}{2h}\n",
    "  $$\n",
    "\n",
    "- **Rho**: sensitivity to interest rate\n",
    "  $$\n",
    "  \\text{Rho} \\approx \\frac{V(r + h) - V(r - h)}{2h}\n",
    "  $$\n",
    "\n",
    "These are compared to the analytical Greeks from the Black-Scholes model.\n"
   ]
  },
  {
   "cell_type": "markdown",
   "metadata": {},
   "source": [
    "## Convergence and Accuracy\n",
    "\n",
    "Monte Carlo methods are unbiased but noisy. Accuracy improves with the number of simulations \\( I \\), following:\n",
    "\n",
    "$$\n",
    "\\text{Standard Error} \\sim \\frac{1}{\\sqrt{I}}\n",
    "$$\n",
    "\n",
    "We validate accuracy by comparing Monte Carlo prices and Greeks to Black-Scholes closed-form results using unit tests and visual plots.\n"
   ]
  }
 ],
 "metadata": {
  "language_info": {
   "name": "python"
  }
 },
 "nbformat": 4,
 "nbformat_minor": 2
}
